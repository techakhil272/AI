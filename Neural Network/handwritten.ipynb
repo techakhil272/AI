{
  "cells": [
    {
      "cell_type": "markdown",
      "metadata": {
        "colab_type": "text",
        "id": "view-in-github"
      },
      "source": [
        "<a href=\"https://colab.research.google.com/github/techakhil272/AI/blob/main/neural.ipynb\" target=\"_parent\"><img src=\"https://colab.research.google.com/assets/colab-badge.svg\" alt=\"Open In Colab\"/></a>"
      ]
    },
    {
      "cell_type": "markdown",
      "metadata": {},
      "source": [
        "# **Handwritten Text Recognition**"
      ]
    },
    {
      "cell_type": "markdown",
      "metadata": {
        "id": "bUGyCbgm9nBk"
      },
      "source": [
        "**Neural Networks**"
      ]
    },
    {
      "cell_type": "markdown",
      "metadata": {
        "id": "6zqFTiR1J5tk"
      },
      "source": [
        "Importing Libraries..."
      ]
    },
    {
      "cell_type": "code",
      "execution_count": null,
      "metadata": {
        "id": "04dr4nvk9nWz"
      },
      "outputs": [],
      "source": [
        "try:\n",
        "  import tensorflow.compat.v2 as tf\n",
        "except Exception:\n",
        "  pass\n",
        "\n",
        "# import numpy as np\n",
        "# from tensorflow import keras\n",
        "# import tensorflow as tf\n",
        "# from keras import Sequential\n",
        "# from keras.layers import Dense"
      ]
    },
    {
      "cell_type": "markdown",
      "metadata": {
        "id": "LKAoU_lsKDqy"
      },
      "source": [
        "Training Model and Prediction"
      ]
    },
    {
      "cell_type": "markdown",
      "metadata": {
        "id": "OdojwSYSNphl"
      },
      "source": [
        "# **Handwritten Text Recognition**"
      ]
    },
    {
      "cell_type": "code",
      "execution_count": null,
      "metadata": {
        "id": "R5ki-3VHS_cq"
      },
      "outputs": [],
      "source": [
        "import os\n",
        "import cv2\n",
        "import matplotlib.pyplot as plt\n"
      ]
    },
    {
      "cell_type": "markdown",
      "metadata": {
        "id": "WX2230ueOOVT"
      },
      "source": [
        "Model Creation and output prediction."
      ]
    },
    {
      "cell_type": "code",
      "execution_count": null,
      "metadata": {
        "colab": {
          "base_uri": "https://localhost:8080/"
        },
        "id": "rDcMD8ahNmaK",
        "outputId": "ec4e6688-4cdb-4044-96b7-17320c620092"
      },
      "outputs": [
        {
          "name": "stdout",
          "output_type": "stream",
          "text": [
            "Epoch 1/3\n",
            "1875/1875 [==============================] - 7s 3ms/step - loss: 0.3275 - accuracy: 0.9085\n",
            "Epoch 2/3\n",
            "1875/1875 [==============================] - 7s 4ms/step - loss: 0.1221 - accuracy: 0.9623\n",
            "Epoch 3/3\n",
            "1875/1875 [==============================] - 7s 4ms/step - loss: 0.0823 - accuracy: 0.9743\n"
          ]
        }
      ],
      "source": [
        "#Load Mnist data set to compare\n",
        "mnist=tf.keras.datasets.mnist\n",
        "#loading training and testing value using mnist.load_Data()\n",
        "(x_train,y_train),(x_test,y_test)=mnist.load_data()\n",
        "#Normalizing the data to understand by humans\n",
        "x_train = tf.keras.utils.normalize(x_train,axis=1)\n",
        "x_test = tf.keras.utils.normalize(x_test,axis=1)\n",
        "\n",
        "# y_train = tf.keras.utils.normalize(y_train,axis=1)\n",
        "# y_test = tf.keras.utils.normalize(y_test,axis=1)\n",
        "\n",
        "model = tf.keras.models.Sequential()\n",
        "#input Layer\n",
        "model.add(tf.keras.layers.Flatten(input_shape=(28,28)))\n",
        "#Hidden Layer\n",
        "model.add(tf.keras.layers.Dense(128,activation='relu'))\n",
        "model.add(tf.keras.layers.Dense(128,activation='relu'))\n",
        "#OutPut Layer\n",
        "model.add(tf.keras.layers.Dense(128,activation='softmax'))\n",
        "\n",
        "#creating the model\n",
        "model.compile(optimizer='adam',loss='sparse_categorical_crossentropy',metrics=['accuracy'])\n",
        "model.fit(x_train,y_train,epochs=3)\n",
        "#creating model file could be used again without same values\n",
        "model.save('handwritten.model')"
      ]
    },
    {
      "cell_type": "code",
      "execution_count": null,
      "metadata": {
        "id": "xD9Rf3_nRaDU"
      },
      "outputs": [],
      "source": [
        "# mnist=tf.keras.datasets.mnist\n",
        "# (x_train,y_train),(x_test,y_test)=mnist.load_data()\n",
        "\n",
        "# x_train = tf.keras.utils.normalize(x_train,axis=1)\n",
        "# x_test = tf.keras.utils.normalize(x_test,axis=1)\n",
        "# y_train = tf.keras.utils.normalize(y_train,axis=1)\n",
        "# y_test = tf.keras.utils.normalize(y_test,axis=1)\n",
        "\n",
        "# model = tf.keras.models.load_model('handwritten.model')\n",
        "\n",
        "# loss, accuracy = model.evaluate(x_test, y_test,epoch=10)\n",
        "\n",
        "# print(loss)\n",
        "# print(accuracy)"
      ]
    },
    {
      "cell_type": "code",
      "execution_count": null,
      "metadata": {
        "id": "joOzVS4SAEDI"
      },
      "outputs": [],
      "source": [
        "import tensorflow as tf"
      ]
    },
    {
      "cell_type": "markdown",
      "metadata": {
        "id": "DTBhSGMaPkn8"
      },
      "source": [
        "TO Get the model from saved File"
      ]
    },
    {
      "cell_type": "code",
      "execution_count": null,
      "metadata": {
        "id": "8kc9FWDs_RSe"
      },
      "outputs": [],
      "source": [
        "model = tf.keras.models.load_model('handwritten.model')"
      ]
    },
    {
      "cell_type": "markdown",
      "metadata": {
        "id": "M3QYFdyZQG77"
      },
      "source": [
        "Evaluate the and accuracy."
      ]
    },
    {
      "cell_type": "code",
      "execution_count": null,
      "metadata": {
        "colab": {
          "base_uri": "https://localhost:8080/"
        },
        "id": "l5QOBxBuAXLl",
        "outputId": "12861b62-7c81-467b-cee8-51e3e187f464"
      },
      "outputs": [
        {
          "name": "stdout",
          "output_type": "stream",
          "text": [
            "313/313 [==============================] - 1s 2ms/step - loss: 0.0990 - accuracy: 0.9714\n",
            "0.09896272420883179\n",
            "0.9714000225067139\n"
          ]
        }
      ],
      "source": [
        "loss, accuracy = model.evaluate(x_test, y_test)\n",
        "print(loss)\n",
        "print(accuracy)"
      ]
    },
    {
      "cell_type": "markdown",
      "metadata": {
        "id": "_uMiIKHeQOag"
      },
      "source": [
        "Image Used to scan is"
      ]
    },
    {
      "cell_type": "code",
      "execution_count": null,
      "metadata": {
        "colab": {
          "base_uri": "https://localhost:8080/",
          "height": 282
        },
        "id": "sxdVsT6wAxJ0",
        "outputId": "0a852e25-d088-47f6-8701-7eceb307899f"
      },
      "outputs": [
        {
          "name": "stdout",
          "output_type": "stream",
          "text": [
            "This Digit is probably a 2\n"
          ]
        },
        {
          "data": {
            "image/png": "[encoded data removed]",
            "text/plain": [
              "<Figure size 432x288 with 1 Axes>"
            ]
          },
          "metadata": {
            "needs_background": "light"
          },
          "output_type": "display_data"
        }
      ],
      "source": [
        "img = cv2.imread(f\"unit2.jpeg\")[:,:,0] #Reading img data and storing into img variable\n",
        "img = np.invert(np.array([img])) #Creating array inverted like straight line\n",
        "prediction = model.predict(img) #Prediction\n",
        "print(f\"This Digit is probably a {np.argmax(prediction)}\") #Getting output with max prediction value\n",
        "plt.imshow(img[0],cmap=plt.cm.binary) #Showing Image\n",
        "plt.show()"
      ]
    }
  ],
  "metadata": {
    "colab": {
      "authorship_tag": "ABX9TyP/z8ryM6JmdbkfD7/WLW28",
      "include_colab_link": true,
      "provenance": []
    },
    "kernelspec": {
      "display_name": "Python 3",
      "name": "python3"
    },
    "language_info": {
      "name": "python"
    }
  },
  "nbformat": 4,
  "nbformat_minor": 0
}
